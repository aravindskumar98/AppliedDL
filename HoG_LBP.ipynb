{
  "nbformat": 4,
  "nbformat_minor": 0,
  "metadata": {
    "colab": {
      "name": "HoG_LBP",
      "provenance": [],
      "mount_file_id": "1aOisUm1sR5G1FC4NASGhidVOo6jaizu7",
      "authorship_tag": "ABX9TyP9BU2QTwTvmXotYESYvocX",
      "include_colab_link": true
    },
    "kernelspec": {
      "name": "python3",
      "display_name": "Python 3"
    },
    "language_info": {
      "name": "python"
    }
  },
  "cells": [
    {
      "cell_type": "markdown",
      "metadata": {
        "id": "view-in-github",
        "colab_type": "text"
      },
      "source": [
        "<a href=\"https://colab.research.google.com/github/aravindskumar98/AppliedDL/blob/main/HoG_LBP.ipynb\" target=\"_parent\"><img src=\"https://colab.research.google.com/assets/colab-badge.svg\" alt=\"Open In Colab\"/></a>"
      ]
    },
    {
      "cell_type": "code",
      "execution_count": null,
      "metadata": {
        "id": "QwSOPkvSKVAo"
      },
      "outputs": [],
      "source": [
        "import numpy as np\n",
        "from sklearn.neighbors import KNeighborsClassifier\n",
        "from sklearn.model_selection import train_test_split\n",
        "import random\n",
        "from sklearn import metrics\n",
        "import scipy.io\n",
        "import matplotlib.pyplot as plt\n",
        "import pandas as pd\n",
        "import warnings \n",
        "warnings.filterwarnings(\"ignore\")\n",
        "from skimage import feature"
      ]
    },
    {
      "cell_type": "code",
      "source": [
        "import scipy.io\n",
        "## Import data\n",
        "mat = scipy.io.loadmat('/content/drive/MyDrive/YaleB_32x32.mat')\n",
        "\n",
        "##obtain input pixels and output\n",
        "fea = np.array(mat['fea'])\n",
        "gnd = np.array(mat['gnd'])\n",
        "\n",
        "##Data preprocessing\n",
        "\n",
        "## join the input and output into one numpy array\n",
        "data = np.concatenate((fea, gnd), axis=1)"
      ],
      "metadata": {
        "id": "7yl_LiqNKkGN"
      },
      "execution_count": null,
      "outputs": []
    },
    {
      "cell_type": "code",
      "source": [
        "data_faces = np.split(data, np.where(np.diff(data[:,-1]))[0]+1)"
      ],
      "metadata": {
        "id": "7VoNScmCKmGl"
      },
      "execution_count": null,
      "outputs": []
    },
    {
      "cell_type": "code",
      "source": [
        "\n",
        "## setting p value for distance metric\n",
        "p_set = [1,2]\n",
        "score_p = []\n",
        "\n",
        "## defining distance function\n",
        "def mydist(x, y):\n",
        "  return np.sum((x-y)**pwr)\n",
        "\n",
        "k = 3\n",
        "m = 30\n",
        "\n",
        "trainX = []\n",
        "trainY = []\n",
        "testX = []\n",
        "testY = []\n",
        "## iterate through each person and sample m instances\n",
        "for person in data_faces:\n",
        "  df = pd.DataFrame(person)\n",
        "  training_data = df.sample(n = m, random_state=25)\n",
        "  testing_data = df.drop(training_data.index)\n",
        "  for i in range(len(training_data)):\n",
        "    trainX.append(np.array(training_data.iloc[i,:])[:-1])\n",
        "    trainY.append(np.array(training_data.iloc[i,:])[-1])\n",
        "  for i in range(len(testing_data)):\n",
        "    testX.append(np.array(testing_data.iloc[i,:])[:-1])\n",
        "    testY.append(np.array(testing_data.iloc[i,:])[-1])\n",
        "\n",
        "X_train = np.array(trainX)\n",
        "y_train = np.array(trainY)\n",
        "X_test = np.array(testX)\n",
        "y_test = np.array(testY)\n",
        "\n",
        "\n",
        "for pwr in p_set:\n",
        "\n",
        "  ## defining the classifier\n",
        "  nbrs = KNeighborsClassifier(n_neighbors=k, p = pwr)\n",
        "\n",
        "  ## fitting it to the training data\n",
        "  nbrs.fit(X_train, y_train)\n",
        "\n",
        "  ## prediction of the KNN model\n",
        "  pred_out = nbrs.predict(X_test)\n",
        "\n",
        "  ## accuracy of the model\n",
        "  accuracy = metrics.accuracy_score(pred_out, y_test)\n",
        "  error_rate = 1 - accuracy\n",
        "  print(f'k = {k}, m = {m}, p = {pwr}, error_rate= {error_rate:.3f}')\n",
        "  score_p.append(error_rate*100)\n",
        "\n",
        "plt.plot(p_set,score_p)\n",
        "plt.title(f\"error_rate vs P for K = {k}, m = {m} : Pixel intensity\")\n",
        "plt.xlabel(\"p value\")\n",
        "plt.ylabel(\"error_rate %\")\n"
      ],
      "metadata": {
        "colab": {
          "base_uri": "https://localhost:8080/",
          "height": 347
        },
        "id": "mNkTOSdnKr5A",
        "outputId": "ad692a2e-7537-4f39-9108-bcd2d54525ed"
      },
      "execution_count": null,
      "outputs": [
        {
          "output_type": "stream",
          "name": "stdout",
          "text": [
            "k = 3, m = 30, p = 1, error_rate= 0.458\n",
            "k = 3, m = 30, p = 2, error_rate= 0.408\n"
          ]
        },
        {
          "output_type": "execute_result",
          "data": {
            "text/plain": [
              "Text(0, 0.5, 'error_rate %')"
            ]
          },
          "metadata": {},
          "execution_count": 4
        },
        {
          "output_type": "display_data",
          "data": {
            "image/png": "[encoded data removed]",
            "text/plain": [
              "<Figure size 432x288 with 1 Axes>"
            ]
          },
          "metadata": {
            "needs_background": "light"
          }
        }
      ]
    },
    {
      "cell_type": "markdown",
      "source": [
        "# LBP"
      ],
      "metadata": {
        "id": "38JCRDE3tAn0"
      }
    },
    {
      "cell_type": "code",
      "source": [
        "## This function generates LBP images\n",
        "\n",
        "def getLBPdata(data):\n",
        "  output = []\n",
        "  for i,dat in enumerate(data):\n",
        "    img = data[i].reshape(32,32).T\n",
        "    lbp = feature.local_binary_pattern(img,2,2)\n",
        "    output.append(np.array(lbp.reshape(1,-1)))\n",
        "  return np.array(output).reshape(-1,1024)\n",
        "    "
      ],
      "metadata": {
        "id": "3_0-90E0EMvB"
      },
      "execution_count": null,
      "outputs": []
    },
    {
      "cell_type": "code",
      "source": [
        "\n",
        "## setting p value for distance metric\n",
        "p_set = [1,2]\n",
        "score_p_lbp = []\n",
        "\n",
        "## defining distance function\n",
        "def mydist(x, y):\n",
        "  return np.sum((x-y)**pwr)\n",
        "\n",
        "k = 3\n",
        "m = 30\n",
        "\n",
        "trainX = []\n",
        "trainY = []\n",
        "testX = []\n",
        "testY = []\n",
        "## iterate through each person and sample m instances\n",
        "for person in data_faces:\n",
        "  df = pd.DataFrame(person)\n",
        "  training_data = df.sample(n = m, random_state=25)\n",
        "  testing_data = df.drop(training_data.index)\n",
        "  for i in range(len(training_data)):\n",
        "    trainX.append(np.array(training_data.iloc[i,:])[:-1])\n",
        "    trainY.append(np.array(training_data.iloc[i,:])[-1])\n",
        "  for i in range(len(testing_data)):\n",
        "    testX.append(np.array(testing_data.iloc[i,:])[:-1])\n",
        "    testY.append(np.array(testing_data.iloc[i,:])[-1])\n",
        "\n",
        "X_train = np.array(trainX)\n",
        "y_train = np.array(trainY)\n",
        "X_test = np.array(testX)\n",
        "y_test = np.array(testY)\n",
        "\n",
        "X_train_lbp = getLBPdata(X_train)\n",
        "X_test_lbp = getLBPdata(X_test)\n",
        "print(X_train.shape, X_train_lbp.shape)\n",
        "\n"
      ],
      "metadata": {
        "colab": {
          "base_uri": "https://localhost:8080/"
        },
        "id": "hWrf06u98RTf",
        "outputId": "e5e68964-3385-4b27-d1fe-83f7511e71c2"
      },
      "execution_count": null,
      "outputs": [
        {
          "output_type": "stream",
          "name": "stdout",
          "text": [
            "(1140, 1024) (1140, 1024)\n"
          ]
        }
      ]
    },
    {
      "cell_type": "code",
      "source": [
        "for pwr in p_set:\n",
        "\n",
        "  ## defining the classifier\n",
        "  nbrs = KNeighborsClassifier(n_neighbors=k, p = pwr)\n",
        "\n",
        "  ## fitting it to the training data\n",
        "  nbrs.fit(X_train_lbp, y_train)\n",
        "\n",
        "  ## prediction of the KNN model\n",
        "  pred_out = nbrs.predict(X_test_lbp)\n",
        "\n",
        "  ## accuracy of the model\n",
        "  accuracy = metrics.accuracy_score(pred_out, y_test)\n",
        "  error_rate = 1 - accuracy\n",
        "  print(f'k = {k}, m = {m}, p = {pwr}, error_rate= {error_rate:.3f}')\n",
        "  score_p_lbp.append(error_rate*100)\n",
        "\n",
        "plt.plot(p_set,score_p_lbp)\n",
        "plt.title(f\"error_rate vs P for K = {k}, m = {m}: LBP\")\n",
        "plt.xlabel(\"p value\")\n",
        "plt.ylabel(\"error_rate\")"
      ],
      "metadata": {
        "colab": {
          "base_uri": "https://localhost:8080/",
          "height": 347
        },
        "id": "K2lE-YHnEdql",
        "outputId": "dac0ae13-bb0c-47f1-b4cc-3e7c1964a0c0"
      },
      "execution_count": null,
      "outputs": [
        {
          "output_type": "stream",
          "name": "stdout",
          "text": [
            "k = 3, m = 30, p = 1, error_rate= 0.018\n",
            "k = 3, m = 30, p = 2, error_rate= 0.016\n"
          ]
        },
        {
          "output_type": "execute_result",
          "data": {
            "text/plain": [
              "Text(0, 0.5, 'error_rate')"
            ]
          },
          "metadata": {},
          "execution_count": 7
        },
        {
          "output_type": "display_data",
          "data": {
            "image/png": "[encoded data removed]",
            "text/plain": [
              "<Figure size 432x288 with 1 Axes>"
            ]
          },
          "metadata": {
            "needs_background": "light"
          }
        }
      ]
    },
    {
      "cell_type": "code",
      "source": [
        "## HOG Images"
      ],
      "metadata": {
        "id": "jx_a_7ostG_W"
      },
      "execution_count": null,
      "outputs": []
    },
    {
      "cell_type": "markdown",
      "source": [
        "# HOG Images\n",
        "\n",
        "### Images are first upscaled  and then the procedure then HoG features are extracted"
      ],
      "metadata": {
        "id": "2uFQ7Bw6tJiC"
      }
    },
    {
      "cell_type": "code",
      "source": [
        "from skimage.transform import resize\n",
        "\n",
        "## This function creates HOG images from data provided\n",
        "def getHOGdata(data):\n",
        "  output = []\n",
        "  for i,dat in enumerate(data):\n",
        "    # print(i)\n",
        "    img = data[i].reshape(32,32).T\n",
        "    resized_img = resize(img, (128, 128))\n",
        "\n",
        "    fd, hog_image = feature.hog(resized_img, visualize=True, multichannel=False)\n",
        "\n",
        "    # plt.imshow(lbp)\n",
        "    output.append(fd)\n",
        "  return np.array(output).reshape(len(data),-1)"
      ],
      "metadata": {
        "id": "_lt01cO4M847"
      },
      "execution_count": null,
      "outputs": []
    },
    {
      "cell_type": "code",
      "source": [
        "\n",
        "## setting p value for distance metric\n",
        "p_set = [1,2]\n",
        "\n",
        "## defining distance function\n",
        "def mydist(x, y):\n",
        "  return np.sum((x-y)**pwr)\n",
        "\n",
        "k = 3\n",
        "m = 30\n",
        "\n",
        "trainX = []\n",
        "trainY = []\n",
        "testX = []\n",
        "testY = []\n",
        "## iterate through each person and sample m instances\n",
        "for j,person in enumerate(data_faces):\n",
        "  df = pd.DataFrame(person)\n",
        "  training_data = df.sample(n = m, random_state=25)\n",
        "  testing_data = df.drop(training_data.index)\n",
        "  for i in range(len(training_data)):\n",
        "    trainX.append(np.array(training_data.iloc[i,:])[:-1])\n",
        "    trainY.append(np.array(training_data.iloc[i,:])[-1])\n",
        "  for i in range(len(testing_data)):\n",
        "    testX.append(np.array(testing_data.iloc[i,:])[:-1])\n",
        "    testY.append(np.array(testing_data.iloc[i,:])[-1])\n",
        "\n",
        "X_train = np.array(trainX)\n",
        "y_train = np.array(trainY)\n",
        "X_test = np.array(testX)\n",
        "y_test = np.array(testY)\n",
        "\n",
        "X_train_hog = getHOGdata(X_train)\n",
        "X_test_hog = getHOGdata(X_test)\n",
        "print(X_train.shape, X_train_hog.shape)\n",
        "\n"
      ],
      "metadata": {
        "colab": {
          "base_uri": "https://localhost:8080/"
        },
        "id": "eB_X1-7KF8EE",
        "outputId": "19d5b2da-853a-4e2c-8d9c-1aa8560d9f5f"
      },
      "execution_count": null,
      "outputs": [
        {
          "output_type": "stream",
          "name": "stdout",
          "text": [
            "(1140, 1024) (1140, 15876)\n"
          ]
        }
      ]
    },
    {
      "cell_type": "code",
      "source": [
        "score_p_hog = []\n",
        "for pwr in p_set:\n",
        "\n",
        "  ## defining the classifier\n",
        "  nbrs = KNeighborsClassifier(n_neighbors=k, p = pwr)\n",
        "\n",
        "  ## fitting it to the training data\n",
        "  nbrs.fit(X_train_hog, y_train)\n",
        "\n",
        "  ## prediction of the KNN model\n",
        "  pred_out = nbrs.predict(X_test_hog)\n",
        "\n",
        "  ## accuracy of the model\n",
        "  accuracy = metrics.accuracy_score(pred_out, y_test)\n",
        "  error_rate = 1 - accuracy\n",
        "  print(f'k = {k}, m = {m}, p = {pwr}, error_rate= {error_rate:.3f}')\n",
        "  score_p_hog.append(error_rate*100)\n",
        "\n"
      ],
      "metadata": {
        "colab": {
          "base_uri": "https://localhost:8080/"
        },
        "id": "RL5k1GubQIFd",
        "outputId": "b2cdf631-b357-4e2c-c74f-429161c5a5d4"
      },
      "execution_count": null,
      "outputs": [
        {
          "output_type": "stream",
          "name": "stdout",
          "text": [
            "k = 3, m = 30, p = 1, error_rate= 0.058\n",
            "k = 3, m = 30, p = 2, error_rate= 0.066\n"
          ]
        }
      ]
    },
    {
      "cell_type": "code",
      "source": [
        "plt.plot(p_set,score_p_hog)\n",
        "plt.title(f\"error_rate vs P for K = {k}, m = {m}: HOG\")\n",
        "plt.xlabel(\"p value\")\n",
        "plt.ylabel(\"error_rate\")\n"
      ],
      "metadata": {
        "colab": {
          "base_uri": "https://localhost:8080/",
          "height": 312
        },
        "id": "Em0rtN-EQp3E",
        "outputId": "1929c5dc-8ddb-4320-95d2-76491bdf2a79"
      },
      "execution_count": null,
      "outputs": [
        {
          "output_type": "execute_result",
          "data": {
            "text/plain": [
              "Text(0, 0.5, 'error_rate')"
            ]
          },
          "metadata": {},
          "execution_count": 12
        },
        {
          "output_type": "display_data",
          "data": {
            "image/png": "[encoded data removed]",
            "text/plain": [
              "<Figure size 432x288 with 1 Axes>"
            ]
          },
          "metadata": {
            "needs_background": "light"
          }
        }
      ]
    },
    {
      "cell_type": "code",
      "source": [
        ""
      ],
      "metadata": {
        "id": "kqvsxwd5pwjF"
      },
      "execution_count": null,
      "outputs": []
    }
  ]
}