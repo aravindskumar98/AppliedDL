{
  "nbformat": 4,
  "nbformat_minor": 0,
  "metadata": {
    "colab": {
      "name": "DL_assignment_2_2.ipynb",
      "provenance": [],
      "mount_file_id": "18xsaq9-S6JCLkkXAYn3VXrEpTsez7kB1",
      "authorship_tag": "ABX9TyOTbNfoV7vXulkll4mRFKNL",
      "include_colab_link": true
    },
    "kernelspec": {
      "name": "python3",
      "display_name": "Python 3"
    },
    "language_info": {
      "name": "python"
    }
  },
  "cells": [
    {
      "cell_type": "markdown",
      "metadata": {
        "id": "view-in-github",
        "colab_type": "text"
      },
      "source": [
        "<a href=\"https://colab.research.google.com/github/aravindskumar98/AppliedDL/blob/main/KNN_with_CV.ipynb\" target=\"_parent\"><img src=\"https://colab.research.google.com/assets/colab-badge.svg\" alt=\"Open In Colab\"/></a>"
      ]
    },
    {
      "cell_type": "code",
      "execution_count": null,
      "metadata": {
        "id": "MWYfB-CxK5HL"
      },
      "outputs": [],
      "source": [
        "import numpy as np\n",
        "from sklearn.neighbors import KNeighborsClassifier\n",
        "from sklearn.model_selection import train_test_split\n",
        "import random\n",
        "from sklearn import metrics\n",
        "import scipy.io\n",
        "import matplotlib.pyplot as plt\n",
        "import pandas as pd\n",
        "import warnings \n",
        "warnings.filterwarnings(\"ignore\")"
      ]
    },
    {
      "cell_type": "code",
      "source": [
        "import scipy.io\n",
        "## Import data\n",
        "mat = scipy.io.loadmat('/content/drive/MyDrive/YaleB_32x32.mat')\n",
        "\n",
        "##obtain input pixels and output\n",
        "fea = np.array(mat['fea'])\n",
        "gnd = np.array(mat['gnd'])\n",
        "\n",
        "##Data preprocessing\n",
        "\n",
        "## join the input and output into one numpy array\n",
        "data = np.concatenate((fea, gnd), axis=1)"
      ],
      "metadata": {
        "id": "Ok88Q7j8LAFQ"
      },
      "execution_count": null,
      "outputs": []
    },
    {
      "cell_type": "code",
      "source": [
        "data_faces = np.split(data, np.where(np.diff(data[:,-1]))[0]+1)"
      ],
      "metadata": {
        "id": "iTY2EtN-LIkH"
      },
      "execution_count": null,
      "outputs": []
    },
    {
      "cell_type": "code",
      "source": [
        "test_sample_size = 20\n",
        "train_data = []\n",
        "testX = []\n",
        "testY = []\n",
        "  ## iterate through each person and sample m instances\n",
        "for person in data_faces:\n",
        "  df = pd.DataFrame(person)\n",
        "  testing_data = df.sample(n = test_sample_size, random_state=25)\n",
        "  training_data = df.drop(testing_data.index)\n",
        "  for i in range(len(training_data)):\n",
        "    train_data.append(np.array(training_data.iloc[i,:]))\n",
        "  for i in range(len(testing_data)):\n",
        "    testX.append(np.array(testing_data.iloc[i,:])[:-1])\n",
        "    testY.append(np.array(testing_data.iloc[i,:])[-1])\n",
        "\n",
        "train_data = np.array(train_data)\n",
        "X_test = np.array(testX)\n",
        "y_test = np.array(testY)"
      ],
      "metadata": {
        "id": "cjCSZzJHLK9M"
      },
      "execution_count": null,
      "outputs": []
    },
    {
      "cell_type": "code",
      "source": [
        "train_data.shape, X_test.shape, y_test.shape"
      ],
      "metadata": {
        "colab": {
          "base_uri": "https://localhost:8080/"
        },
        "id": "3Uu96DUMLjg2",
        "outputId": "84824e23-132c-48b3-e720-1b8b2397e95d"
      },
      "execution_count": null,
      "outputs": [
        {
          "output_type": "execute_result",
          "data": {
            "text/plain": [
              "((1654, 1025), (760, 1024), (760,))"
            ]
          },
          "metadata": {},
          "execution_count": 5
        }
      ]
    },
    {
      "cell_type": "code",
      "source": [
        "data_faces_train = np.split(data, np.where(np.diff(data[:,-1]))[0]+1)\n"
      ],
      "metadata": {
        "id": "rjSh15L8Lqj8"
      },
      "execution_count": null,
      "outputs": []
    },
    {
      "cell_type": "code",
      "source": [
        "val_sizes = [10,20]\n",
        "val_size = 10\n",
        "ks = [1,2,3,5,10]\n",
        "ps = [1,2,3]\n",
        "for val_size in val_sizes:\n",
        "  trainX = []\n",
        "  trainY = []\n",
        "  ValX = []\n",
        "  ValY = []\n",
        "  ## iterate through each person and sample m instances\n",
        "  for person in data_faces_train:\n",
        "    df = pd.DataFrame(person)\n",
        "    validation_data = df.sample(n = val_size, random_state=25)\n",
        "    training_data = df.drop(validation_data.index)\n",
        "    for i in range(len(training_data)):\n",
        "      trainX.append(np.array(training_data.iloc[i,:])[:-1])\n",
        "      trainY.append(np.array(training_data.iloc[i,:])[-1])\n",
        "    for i in range(len(validation_data)):\n",
        "      ValX.append(np.array(validation_data.iloc[i,:])[:-1])\n",
        "      ValY.append(np.array(validation_data.iloc[i,:])[-1])\n",
        "\n",
        "  X_train = np.array(trainX)\n",
        "  y_train = np.array(trainY)\n",
        "  X_val = np.array(ValX)\n",
        "  y_val = np.array(ValY)\n",
        "  for p in ps:\n",
        "    for k in ks:\n",
        "        nbrs = KNeighborsClassifier(n_neighbors=k, p = p)\n",
        "        ## fitting it to the training data\n",
        "        nbrs.fit(X_train, y_train)\n",
        "        ## prediction of the KNN model\n",
        "        pred_out = nbrs.predict(X_val)\n",
        "        ## accuracy of the model\n",
        "        accuracy = metrics.accuracy_score(pred_out, y_val)\n",
        "        error_rate = 1 - accuracy\n",
        "        print(f'k = {k}, p = {p}, val_size = {val_size} per person, error_rate= {error_rate:.3f}')"
      ],
      "metadata": {
        "colab": {
          "base_uri": "https://localhost:8080/"
        },
        "id": "IIQ5Ru49Q19R",
        "outputId": "275f3707-d21a-4eb1-f457-4d202eba5cce"
      },
      "execution_count": null,
      "outputs": [
        {
          "output_type": "stream",
          "name": "stdout",
          "text": [
            "k = 1, p = 1, val_size = 10 per person, error_rate= 0.284\n",
            "k = 2, p = 1, val_size = 10 per person, error_rate= 0.308\n",
            "k = 3, p = 1, val_size = 10 per person, error_rate= 0.318\n",
            "k = 5, p = 1, val_size = 10 per person, error_rate= 0.316\n",
            "k = 10, p = 1, val_size = 10 per person, error_rate= 0.350\n",
            "k = 1, p = 2, val_size = 10 per person, error_rate= 0.274\n",
            "k = 2, p = 2, val_size = 10 per person, error_rate= 0.326\n",
            "k = 3, p = 2, val_size = 10 per person, error_rate= 0.332\n",
            "k = 5, p = 2, val_size = 10 per person, error_rate= 0.311\n",
            "k = 10, p = 2, val_size = 10 per person, error_rate= 0.350\n",
            "k = 1, p = 3, val_size = 10 per person, error_rate= 0.242\n",
            "k = 2, p = 3, val_size = 10 per person, error_rate= 0.282\n",
            "k = 3, p = 3, val_size = 10 per person, error_rate= 0.287\n",
            "k = 5, p = 3, val_size = 10 per person, error_rate= 0.284\n",
            "k = 10, p = 3, val_size = 10 per person, error_rate= 0.337\n",
            "k = 1, p = 1, val_size = 20 per person, error_rate= 0.282\n",
            "k = 2, p = 1, val_size = 20 per person, error_rate= 0.338\n",
            "k = 3, p = 1, val_size = 20 per person, error_rate= 0.368\n",
            "k = 5, p = 1, val_size = 20 per person, error_rate= 0.379\n",
            "k = 10, p = 1, val_size = 20 per person, error_rate= 0.401\n",
            "k = 1, p = 2, val_size = 20 per person, error_rate= 0.291\n",
            "k = 2, p = 2, val_size = 20 per person, error_rate= 0.357\n",
            "k = 3, p = 2, val_size = 20 per person, error_rate= 0.376\n",
            "k = 5, p = 2, val_size = 20 per person, error_rate= 0.382\n",
            "k = 10, p = 2, val_size = 20 per person, error_rate= 0.413\n",
            "k = 1, p = 3, val_size = 20 per person, error_rate= 0.258\n",
            "k = 2, p = 3, val_size = 20 per person, error_rate= 0.320\n",
            "k = 3, p = 3, val_size = 20 per person, error_rate= 0.333\n",
            "k = 5, p = 3, val_size = 20 per person, error_rate= 0.359\n",
            "k = 10, p = 3, val_size = 20 per person, error_rate= 0.426\n"
          ]
        }
      ]
    },
    {
      "cell_type": "code",
      "source": [
        "X_train.shape, y_train.shape, X_val.shape, y_val.shape"
      ],
      "metadata": {
        "colab": {
          "base_uri": "https://localhost:8080/"
        },
        "id": "AyDs6A5TRwwc",
        "outputId": "12a15cc6-bbf8-4d99-a375-fc9a1750512d"
      },
      "execution_count": null,
      "outputs": [
        {
          "output_type": "execute_result",
          "data": {
            "text/plain": [
              "((1654, 1024), (1654,), (760, 1024), (760,))"
            ]
          },
          "metadata": {},
          "execution_count": 8
        }
      ]
    },
    {
      "cell_type": "code",
      "source": [
        "##highest accuracy is achieved for p = 3, k = 1 and val_size = 10 per person\n",
        "## We calculate the accuracy on the test set for the same below"
      ],
      "metadata": {
        "id": "alcsd1ujR5Sv"
      },
      "execution_count": null,
      "outputs": []
    },
    {
      "cell_type": "code",
      "source": [
        "p =3 \n",
        "k = 1\n",
        "\n",
        "trainX = []\n",
        "trainY = []\n",
        "ValX = []\n",
        "ValY = []\n",
        "## iterate through each person and sample m instances\n",
        "for person in data_faces_train:\n",
        "  df = pd.DataFrame(person)\n",
        "  validation_data = df.sample(n = val_size, random_state=25)\n",
        "  training_data = df.drop(validation_data.index)\n",
        "  for i in range(len(training_data)):\n",
        "    trainX.append(np.array(training_data.iloc[i,:])[:-1])\n",
        "    trainY.append(np.array(training_data.iloc[i,:])[-1])\n",
        "  for i in range(len(validation_data)):\n",
        "    ValX.append(np.array(validation_data.iloc[i,:])[:-1])\n",
        "    ValY.append(np.array(validation_data.iloc[i,:])[-1])\n",
        "\n",
        "X_train = np.array(trainX)\n",
        "y_train = np.array(trainY)\n",
        "X_val = np.array(ValX)\n",
        "y_val = np.array(ValY)\n",
        "\n",
        "## defining the classifier\n",
        "nbrs = KNeighborsClassifier(n_neighbors=k, p = p)\n",
        "\n",
        "## fitting it to the training data\n",
        "nbrs.fit(X_train, y_train)\n",
        "\n",
        "## prediction of the KNN model\n",
        "pred_out = nbrs.predict(X_test)\n",
        "\n",
        "## accuracy of the model\n",
        "accuracy = metrics.accuracy_score(pred_out, y_test)\n",
        "error_rate = 1 - accuracy\n",
        "print(f'k = {k}, p = {p}, error_rate= {error_rate:.3f}')\n",
        "\n"
      ],
      "metadata": {
        "id": "MEUeIwDZY3wE",
        "colab": {
          "base_uri": "https://localhost:8080/"
        },
        "outputId": "2f52b1ac-83cf-4b18-d4fe-14b33ed2d6fb"
      },
      "execution_count": null,
      "outputs": [
        {
          "output_type": "stream",
          "name": "stdout",
          "text": [
            "k = 1, p = 3, error_rate= 0.258\n"
          ]
        }
      ]
    },
    {
      "cell_type": "code",
      "source": [
        ""
      ],
      "metadata": {
        "id": "5BXPlk64kq58"
      },
      "execution_count": null,
      "outputs": []
    }
  ]
}